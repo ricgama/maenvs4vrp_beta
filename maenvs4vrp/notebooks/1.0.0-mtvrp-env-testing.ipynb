{
 "cells": [
  {
   "cell_type": "code",
   "execution_count": null,
   "id": "beee3e50-6504-4473-b1c0-9b0e58609c96",
   "metadata": {},
   "outputs": [],
   "source": [
    "from maenvs4vrp.environments.mtvrp.env import Environment\n",
    "from maenvs4vrp.environments.mtvrp.observations import Observations\n",
    "from maenvs4vrp.environments.mtvrp.instances_generator import InstanceGenerator\n",
    "from maenvs4vrp.environments.mtvrp.env_agent_selector import AgentSelector\n",
    "from maenvs4vrp.environments.mtvrp.env_agent_reward import DenseReward\n",
    "\n",
    "import torch\n",
    "\n",
    "%load_ext autoreload\n",
    "%autoreload 2"
   ]
  },
  {
   "cell_type": "markdown",
   "id": "486424e8-7e3d-4f72-93af-206e81e68b8e",
   "metadata": {},
   "source": [
    "For more information about the environment check the paper [RouteFinder](https://arxiv.org/abs/2406.15007)."
   ]
  },
  {
   "cell_type": "code",
   "execution_count": null,
   "id": "8af094f9-b276-4836-9503-11f0724438f4",
   "metadata": {},
   "outputs": [],
   "source": [
    "gen = InstanceGenerator()\n",
    "obs = Observations()\n",
    "sel = AgentSelector()\n",
    "rew = DenseReward()"
   ]
  },
  {
   "cell_type": "code",
   "execution_count": null,
   "id": "597b66f2-1511-42fb-88a3-bfd3c7822410",
   "metadata": {},
   "outputs": [],
   "source": [
    "env = Environment(\n",
    "    instance_generator_object=gen,\n",
    "    obs_builder_object=obs,\n",
    "    agent_selector_object=sel,\n",
    "    reward_evaluator=rew\n",
    ")"
   ]
  },
  {
   "cell_type": "code",
   "execution_count": null,
   "id": "e7581543-7daf-4702-ae7a-afb1b302c44c",
   "metadata": {},
   "outputs": [],
   "source": [
    "td = env.reset(num_agents=5, num_nodes=13)"
   ]
  },
  {
   "cell_type": "code",
   "execution_count": null,
   "id": "6f3b037a-f2ad-4ea4-8283-4a1a5d031365",
   "metadata": {},
   "outputs": [],
   "source": [
    "def reset_status():\n",
    "    global td_status\n",
    "    td_status = f\"\"\"TD\n",
    "        Agent step: {td['agent_step']}\n",
    "        Cur_agent_idx: {td['cur_agent_idx']}\n",
    "        Done: {td['done']}\n",
    "        Observations:\n",
    "            Action mask: {td['observations']['action_mask']}\n",
    "            Agent obs: {td['observations']['agent_obs']}\n",
    "            Agents mask: {td['observations']['agents_mask']}\n",
    "            Global obs: {td['observations']['global_obs']}\n",
    "            Node dynamic obs: {td['observations']['node_dynamic_obs']}\n",
    "            Node static obs: {td['observations']['node_static_obs']}\n",
    "            Other agents obs: {td['observations']['other_agents_obs']}\n",
    "        Penalty: {td['penalty']}\n",
    "        Reward: {td['reward']}\n",
    "    \"\"\"\n",
    "\n",
    "    global td_global_status\n",
    "    td_global_status = f\"\"\"TD Global Status\n",
    "        Backhaul class: {env.td_state['backhaul_class']}\n",
    "        Backhaul demands: {env.td_state['backhaul_demands']}\n",
    "        Linehaul demands: {env.td_state['linehaul_demands']}\n",
    "        Capacity: {env.td_state['capacity']}\n",
    "        Coords: {env.td_state['coords']}\n",
    "        Current agent idx: {env.td_state['cur_agent']['cur_agent_idx']}\n",
    "        Current route length: {env.td_state['cur_agent']['cur_route_length']}\n",
    "        Depot idx: {env.td_state['depot_idx']}\n",
    "        Depot loc: {env.td_state['depot_loc']}\n",
    "        Distance limits: {env.td_state['distance_limits']}\n",
    "        Done: {env.td_state['done']}\n",
    "        Start time: {env.td_state['start_time']}\n",
    "        End time: {env.td_state['end_time']}\n",
    "        Is depot: {env.td_state['is_depot']}\n",
    "        Is last step: {env.td_state['is_last_step']}\n",
    "        Max tour duration: {env.td_state['max_tour_duration']}\n",
    "        Open routes: {env.td_state['open_routes']}\n",
    "        Service times: {env.td_state['service_times']}\n",
    "        Speed: {env.td_state['speed']}\n",
    "        Time to depot: {env.td_state['nodes']['time2depot']}\n",
    "        Time windows: {env.td_state['time_windows']}\n",
    "        Used capacity linehaul: {env.td_state['cur_agent']['used_capacity_linehaul']}\n",
    "        Used capacity backhaul: {env.td_state['cur_agent']['used_capacity_backhaul']}\n",
    "    \"\"\"\n",
    "\n",
    "    global td_agents_status\n",
    "    td_agents_status = f\"\"\"TD Agents Status\n",
    "        Active agents mask: {env.td_state['agents']['active_agents_mask']}\n",
    "        Capacity: {env.td_state['agents']['capacity']}\n",
    "        Cum time: {env.td_state['agents']['cum_ttime']}\n",
    "        Current node: {env.td_state['agents']['cur_node']}\n",
    "        Current step: {env.td_state['agents']['cur_step']}\n",
    "        Current time: {env.td_state['agents']['cur_time']}\n",
    "        Current ttime (?): {env.td_state['agents']['cur_ttime']}\n",
    "        Feasible nodes: {env.td_state['agents']['feasible_nodes']}\n",
    "        Visited nodes: {env.td_state['agents']['visited_nodes']}\n",
    "        Current step: {env.td_state['agents']['cur_step']}\n",
    "    \"\"\"\n",
    "\n",
    "    global td_current_agent_status\n",
    "    td_current_agent_status = f\"\"\"TD Current Agent Status\n",
    "        Action mask: {env.td_state['cur_agent']['action_mask']}\n",
    "        Cum time: {env.td_state['cur_agent']['cum_ttime']}\n",
    "        Current node: {env.td_state['cur_agent']['cur_node']}\n",
    "        Current step: {env.td_state['cur_agent']['cur_step']}\n",
    "        Current time: {env.td_state['cur_agent']['cur_time']}\n",
    "        Current ttime (?): {env.td_state['cur_agent']['cur_ttime']}\n",
    "    \"\"\"\n",
    "\n",
    "    global td_nodes_status\n",
    "    td_nodes_status = f\"\"\"TD Nodes Status\n",
    "        Active nodes mask: {env.td_state['nodes']['active_nodes_mask']}\n",
    "        Backhaul demands: {env.td_state['nodes']['backhaul_demands']}\n",
    "        Linehaul demands: {env.td_state['nodes']['linehaul_demands']}\n",
    "    \"\"\"\n",
    "\n",
    "def show_status():\n",
    "    print(td_global_status)\n",
    "    print(td_agents_status)\n",
    "    print(td_current_agent_status)\n",
    "    print(td_nodes_status)"
   ]
  },
  {
   "cell_type": "code",
   "execution_count": null,
   "id": "eb5847e1-a2e0-4b09-8862-3f8b64dff95d",
   "metadata": {},
   "outputs": [],
   "source": [
    "reset_status()\n",
    "show_status()"
   ]
  },
  {
   "cell_type": "code",
   "execution_count": null,
   "id": "e0a79fae-585c-4c92-9da2-286d0a219bfa",
   "metadata": {},
   "outputs": [],
   "source": [
    "#td = env.sample_action(td)\n",
    "td['action'] = torch.Size([2])\n",
    "td['action'] = td['action'].unsqueeze(-1)"
   ]
  },
  {
   "cell_type": "code",
   "execution_count": null,
   "id": "75972cfc-0b7b-4b64-9862-5264100885fb",
   "metadata": {},
   "outputs": [],
   "source": [
    "td['action']"
   ]
  },
  {
   "cell_type": "code",
   "execution_count": null,
   "id": "897b8f4d-ab14-4dae-b9ca-686df70edb2b",
   "metadata": {},
   "outputs": [],
   "source": [
    "td = env.step(td)"
   ]
  },
  {
   "cell_type": "code",
   "execution_count": null,
   "id": "d7e1e8b4-01fb-4da3-b56f-5b14a3a66f32",
   "metadata": {},
   "outputs": [],
   "source": [
    "reset_status()\n",
    "show_status()"
   ]
  },
  {
   "cell_type": "code",
   "execution_count": null,
   "id": "730d9371-c8d4-464f-ae34-baac0162e9dc",
   "metadata": {},
   "outputs": [],
   "source": [
    "#td = env.sample_action(td)\n",
    "td['action'] = torch.Size([10])\n",
    "td['action'] = td['action'].unsqueeze(-1)"
   ]
  },
  {
   "cell_type": "code",
   "execution_count": null,
   "id": "700ec81c-cbe6-4455-b073-2e0fb6295d45",
   "metadata": {},
   "outputs": [],
   "source": [
    "td['action']"
   ]
  },
  {
   "cell_type": "code",
   "execution_count": null,
   "id": "79f13181-3e7c-4c82-9670-b75730ea74b7",
   "metadata": {},
   "outputs": [],
   "source": [
    "td = env.step(td)"
   ]
  },
  {
   "cell_type": "code",
   "execution_count": null,
   "id": "7da4eb2f-5b8c-4926-b5a5-1bc332b8af39",
   "metadata": {},
   "outputs": [],
   "source": [
    "reset_status()\n",
    "show_status()"
   ]
  },
  {
   "cell_type": "code",
   "execution_count": null,
   "id": "c32c79a4-bf63-4282-8ced-49522efa862b",
   "metadata": {},
   "outputs": [],
   "source": [
    "#td = env.sample_action(td)\n",
    "td['action'] = torch.Size([0])\n",
    "td['action'] = td['action'].unsqueeze(-1)"
   ]
  },
  {
   "cell_type": "code",
   "execution_count": null,
   "id": "96cb3d81-6f1e-46d5-9bdf-f3c51c3f8511",
   "metadata": {},
   "outputs": [],
   "source": [
    "td['action']"
   ]
  },
  {
   "cell_type": "code",
   "execution_count": null,
   "id": "07aa3200-1af4-49d5-97cd-48dc5ba1eb05",
   "metadata": {},
   "outputs": [],
   "source": [
    "td = env.step(td)"
   ]
  },
  {
   "cell_type": "code",
   "execution_count": null,
   "id": "153ec285-07b9-48ff-b7d7-5a317844c680",
   "metadata": {},
   "outputs": [],
   "source": [
    "reset_status()\n",
    "show_status()"
   ]
  }
 ],
 "metadata": {
  "kernelspec": {
   "display_name": "Python 3 (ipykernel)",
   "language": "python",
   "name": "python3"
  },
  "language_info": {
   "codemirror_mode": {
    "name": "ipython",
    "version": 3
   },
   "file_extension": ".py",
   "mimetype": "text/x-python",
   "name": "python",
   "nbconvert_exporter": "python",
   "pygments_lexer": "ipython3",
   "version": "3.11.8"
  }
 },
 "nbformat": 4,
 "nbformat_minor": 5
}
